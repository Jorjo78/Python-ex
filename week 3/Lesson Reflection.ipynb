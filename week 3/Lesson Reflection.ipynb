{
 "cells": [
  {
   "cell_type": "code",
   "execution_count": 11,
   "metadata": {},
   "outputs": [
    {
     "name": "stderr",
     "output_type": "stream",
     "text": [
      "/Library/Frameworks/Python.framework/Versions/3.11/lib/python3.11/pty.py:89: RuntimeWarning: Using fork() can cause Polars to deadlock in the child process.\n",
      "In addition, using fork() with Python in general is a recipe for mysterious\n",
      "deadlocks and crashes.\n",
      "\n",
      "The most likely reason you are seeing this error is because you are using the\n",
      "multiprocessing module on Linux, which uses fork() by default. This will be\n",
      "fixed in Python 3.14. Until then, you want to use the \"spawn\" context instead.\n",
      "\n",
      "See https://docs.pola.rs/user-guide/misc/multiprocessing/ for details.\n",
      "\n",
      "If you really know what your doing, you can silence this warning with the warning module\n",
      "or by setting POLARS_ALLOW_FORKING_THREAD=1.\n",
      "\n",
      "  pid, fd = os.forkpty()\n"
     ]
    },
    {
     "name": "stdout",
     "output_type": "stream",
     "text": [
      "Requirement already satisfied: polars in /Library/Frameworks/Python.framework/Versions/3.11/lib/python3.11/site-packages (1.16.0)\n"
     ]
    }
   ],
   "source": [
    "!pip install polars\n",
    "import polars as pl"
   ]
  },
  {
   "cell_type": "markdown",
   "metadata": {},
   "source": [
    "# Create DataFrame "
   ]
  },
  {
   "cell_type": "code",
   "execution_count": 12,
   "metadata": {},
   "outputs": [
    {
     "name": "stdout",
     "output_type": "stream",
     "text": [
      "shape: (3, 3)\n",
      "┌────────┬───────┬───────┐\n",
      "│ fruit  ┆ count ┆ price │\n",
      "│ ---    ┆ ---   ┆ ---   │\n",
      "│ str    ┆ i64   ┆ f64   │\n",
      "╞════════╪═══════╪═══════╡\n",
      "│ apple  ┆ 10    ┆ 0.5   │\n",
      "│ banana ┆ 20    ┆ 0.25  │\n",
      "│ apple  ┆ 15    ┆ 0.55  │\n",
      "└────────┴───────┴───────┘\n"
     ]
    }
   ],
   "source": [
    "data = [{\"fruit\": \"apple\", \"count\": 10, \"price\": 0.50}, \n",
    "        {\"fruit\": \"banana\", \"count\": 20, \"price\": 0.25},\n",
    "        {\"fruit\": \"apple\", \"count\": 15, \"price\": 0.55}]\n",
    "\n",
    "df = pl.from_dicts(data)\n",
    "print(df)"
   ]
  },
  {
   "cell_type": "markdown",
   "metadata": {},
   "source": [
    "# Expressions to select, filter, aggregate"
   ]
  },
  {
   "cell_type": "code",
   "execution_count": 13,
   "metadata": {},
   "outputs": [
    {
     "name": "stdout",
     "output_type": "stream",
     "text": [
      "shape: (2, 3)\n",
      "┌───────┬───────┬───────┐\n",
      "│ fruit ┆ count ┆ price │\n",
      "│ ---   ┆ ---   ┆ ---   │\n",
      "│ str   ┆ i64   ┆ f64   │\n",
      "╞═══════╪═══════╪═══════╡\n",
      "│ apple ┆ 10    ┆ 0.5   │\n",
      "│ apple ┆ 15    ┆ 0.55  │\n",
      "└───────┴───────┴───────┘\n"
     ]
    }
   ],
   "source": [
    "## Select and filter\n",
    "filt = df.filter(pl.col(\"fruit\") == \"apple\")\n",
    "print(filt)"
   ]
  },
  {
   "cell_type": "code",
   "execution_count": 14,
   "metadata": {},
   "outputs": [],
   "source": [
    "##  groupby(\"fruit\"): Groups the DataFrame by the fruit column.\n",
    "##\t.agg(): Specifies the aggregation operation.\n",
    "##\tpl.col(\"count\").sum(): Calculates the sum of the count column.\n",
    "##\t.alias(\"total_count\"): Renames the aggregated column."
   ]
  },
  {
   "cell_type": "code",
   "execution_count": 15,
   "metadata": {},
   "outputs": [
    {
     "name": "stdout",
     "output_type": "stream",
     "text": [
      "shape: (1, 2)\n",
      "┌───────┬─────────────┐\n",
      "│ fruit ┆ total_count │\n",
      "│ ---   ┆ ---         │\n",
      "│ str   ┆ i64         │\n",
      "╞═══════╪═════════════╡\n",
      "│ apple ┆ 25          │\n",
      "└───────┴─────────────┘\n"
     ]
    }
   ],
   "source": [
    "## Group and aggregate\n",
    "agg = filt.group_by(\"fruit\").agg(pl.col(\"count\").sum().alias(\"total_count\"))\n",
    "print(agg)"
   ]
  },
  {
   "cell_type": "code",
   "execution_count": 16,
   "metadata": {},
   "outputs": [],
   "source": [
    "import pandas as pd\n",
    "import numpy as np\n",
    "\n",
    "# Create small dummy DataFrame\n",
    "np.random.seed(1)\n",
    "fruits = ['apple', 'banana', 'strawberry', 'kiwi']  \n",
    "N = 1000\n"
   ]
  },
  {
   "cell_type": "code",
   "execution_count": 17,
   "metadata": {},
   "outputs": [
    {
     "name": "stdout",
     "output_type": "stream",
     "text": [
      "<class 'pandas.core.frame.DataFrame'>\n",
      "RangeIndex: 1000 entries, 0 to 999\n",
      "Data columns (total 2 columns):\n",
      " #   Column  Non-Null Count  Dtype  \n",
      "---  ------  --------------  -----  \n",
      " 0   fruit   1000 non-null   object \n",
      " 1   price   1000 non-null   float64\n",
      "dtypes: float64(1), object(1)\n",
      "memory usage: 15.8+ KB\n"
     ]
    },
    {
     "data": {
      "text/html": [
       "<div>\n",
       "<style scoped>\n",
       "    .dataframe tbody tr th:only-of-type {\n",
       "        vertical-align: middle;\n",
       "    }\n",
       "\n",
       "    .dataframe tbody tr th {\n",
       "        vertical-align: top;\n",
       "    }\n",
       "\n",
       "    .dataframe thead th {\n",
       "        text-align: right;\n",
       "    }\n",
       "</style>\n",
       "<table border=\"1\" class=\"dataframe\">\n",
       "  <thead>\n",
       "    <tr style=\"text-align: right;\">\n",
       "      <th></th>\n",
       "      <th>fruit</th>\n",
       "      <th>price</th>\n",
       "    </tr>\n",
       "  </thead>\n",
       "  <tbody>\n",
       "    <tr>\n",
       "      <th>0</th>\n",
       "      <td>banana</td>\n",
       "      <td>1.787340</td>\n",
       "    </tr>\n",
       "    <tr>\n",
       "      <th>1</th>\n",
       "      <td>kiwi</td>\n",
       "      <td>3.045788</td>\n",
       "    </tr>\n",
       "    <tr>\n",
       "      <th>2</th>\n",
       "      <td>apple</td>\n",
       "      <td>3.829390</td>\n",
       "    </tr>\n",
       "    <tr>\n",
       "      <th>3</th>\n",
       "      <td>apple</td>\n",
       "      <td>2.572893</td>\n",
       "    </tr>\n",
       "    <tr>\n",
       "      <th>4</th>\n",
       "      <td>kiwi</td>\n",
       "      <td>6.463847</td>\n",
       "    </tr>\n",
       "    <tr>\n",
       "      <th>...</th>\n",
       "      <td>...</td>\n",
       "      <td>...</td>\n",
       "    </tr>\n",
       "    <tr>\n",
       "      <th>995</th>\n",
       "      <td>apple</td>\n",
       "      <td>5.444422</td>\n",
       "    </tr>\n",
       "    <tr>\n",
       "      <th>996</th>\n",
       "      <td>apple</td>\n",
       "      <td>9.675260</td>\n",
       "    </tr>\n",
       "    <tr>\n",
       "      <th>997</th>\n",
       "      <td>strawberry</td>\n",
       "      <td>6.804475</td>\n",
       "    </tr>\n",
       "    <tr>\n",
       "      <th>998</th>\n",
       "      <td>strawberry</td>\n",
       "      <td>5.358842</td>\n",
       "    </tr>\n",
       "    <tr>\n",
       "      <th>999</th>\n",
       "      <td>strawberry</td>\n",
       "      <td>9.709257</td>\n",
       "    </tr>\n",
       "  </tbody>\n",
       "</table>\n",
       "<p>1000 rows × 2 columns</p>\n",
       "</div>"
      ],
      "text/plain": [
       "          fruit     price\n",
       "0        banana  1.787340\n",
       "1          kiwi  3.045788\n",
       "2         apple  3.829390\n",
       "3         apple  2.572893\n",
       "4          kiwi  6.463847\n",
       "..          ...       ...\n",
       "995       apple  5.444422\n",
       "996       apple  9.675260\n",
       "997  strawberry  6.804475\n",
       "998  strawberry  5.358842\n",
       "999  strawberry  9.709257\n",
       "\n",
       "[1000 rows x 2 columns]"
      ]
     },
     "execution_count": 17,
     "metadata": {},
     "output_type": "execute_result"
    }
   ],
   "source": [
    "df = pd.DataFrame({\n",
    "   'fruit': np.random.choice(fruits, N),\n",
    "   'price': np.random.uniform(1, 10, N)   \n",
    "})\n",
    "df.info()\n",
    "df"
   ]
  },
  {
   "cell_type": "code",
   "execution_count": 18,
   "metadata": {},
   "outputs": [],
   "source": [
    "# Function to process DataFrame\n",
    "def get_prices_by_fruit(df):\n",
    "    return df.groupby('fruit')['price'].agg(['count', 'mean', 'min', 'max'])"
   ]
  },
  {
   "cell_type": "code",
   "execution_count": 19,
   "metadata": {},
   "outputs": [
    {
     "name": "stdout",
     "output_type": "stream",
     "text": [
      "            count      mean       min       max\n",
      "fruit                                          \n",
      "apple         265  5.610179  1.047159  9.986685\n",
      "banana        241  5.625379  1.071396  9.934308\n",
      "kiwi          237  5.420487  1.006879  9.941144\n",
      "strawberry    257  5.358464  1.028016  9.922119\n"
     ]
    }
   ],
   "source": [
    "prices = get_prices_by_fruit(df) \n",
    "print(prices)"
   ]
  }
 ],
 "metadata": {
  "kernelspec": {
   "display_name": "Python 3",
   "language": "python",
   "name": "python3"
  },
  "language_info": {
   "codemirror_mode": {
    "name": "ipython",
    "version": 3
   },
   "file_extension": ".py",
   "mimetype": "text/x-python",
   "name": "python",
   "nbconvert_exporter": "python",
   "pygments_lexer": "ipython3",
   "version": "3.11.3"
  }
 },
 "nbformat": 4,
 "nbformat_minor": 2
}
