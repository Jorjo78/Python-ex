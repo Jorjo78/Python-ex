{
 "cells": [
  {
   "cell_type": "code",
   "execution_count": 4,
   "metadata": {},
   "outputs": [],
   "source": [
    "import pandas as pd\n",
    "import numpy as np"
   ]
  },
  {
   "cell_type": "markdown",
   "metadata": {},
   "source": [
    "## numpy.ndarray"
   ]
  },
  {
   "cell_type": "code",
   "execution_count": 5,
   "metadata": {},
   "outputs": [
    {
     "name": "stdout",
     "output_type": "stream",
     "text": [
      "          0         1         2         3\n",
      "0 -0.294942  1.721098 -0.708372 -0.403653\n",
      "1 -0.110805 -0.083815 -1.101673 -0.639902\n",
      "2 -1.162601  1.389377  0.818489  0.227057\n",
      "3  1.352022  0.147561 -0.181155  0.471990\n",
      "4  0.880497 -0.899324 -0.502270 -0.068930\n"
     ]
    }
   ],
   "source": [
    "data = np.random.randn(5, 4)  # Generate 5x4 ndarray\n",
    "df = pd.DataFrame(data)       # Underlying structure of Pandas DataFrame\n",
    "print(df)"
   ]
  },
  {
   "cell_type": "markdown",
   "metadata": {},
   "source": [
    "## np.random.randn()"
   ]
  },
  {
   "cell_type": "code",
   "execution_count": null,
   "metadata": {},
   "outputs": [
    {
     "name": "stdout",
     "output_type": "stream",
     "text": [
      "          A         B         C         D\n",
      "0  0.384106  0.659335 -0.689615 -1.654031\n",
      "1  0.361602  0.024610  0.465370 -0.782856\n",
      "2 -1.083741  0.475505  0.965586  0.682263\n",
      "3 -1.660772 -1.088564 -0.054322  2.946705\n",
      "4  0.743503 -1.719298 -1.458845  2.258198\n"
     ]
    }
   ],
   "source": [
    "df = pd.DataFrame(np.random.randn(5, 4),\n",
    "                  columns= ['A', 'B', 'C', 'D'])\n",
    "print(df)\n"
   ]
  }
 ],
 "metadata": {
  "kernelspec": {
   "display_name": "Python 3",
   "language": "python",
   "name": "python3"
  },
  "language_info": {
   "codemirror_mode": {
    "name": "ipython",
    "version": 3
   },
   "file_extension": ".py",
   "mimetype": "text/x-python",
   "name": "python",
   "nbconvert_exporter": "python",
   "pygments_lexer": "ipython3",
   "version": "3.11.3"
  }
 },
 "nbformat": 4,
 "nbformat_minor": 2
}
